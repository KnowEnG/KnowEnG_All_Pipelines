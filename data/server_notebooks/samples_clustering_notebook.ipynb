{
 "cells": [
  {
   "cell_type": "markdown",
   "metadata": {},
   "source": [
    "## Samples Clustering Pipeline notbook run proceedure:\n",
    "* upload your data files to **~/user_data/**\n",
    "* create and upload your yaml file to **~/run_dir/** - use one of the run files below as an example\n",
    "* run the run cell\n",
    "\n",
    "## This notebook is read-only - copy to save."
   ]
  },
  {
   "cell_type": "code",
   "execution_count": null,
   "metadata": {},
   "outputs": [],
   "source": [
    "\"\"\"                run the cell to process your uploaded yml file   \"\"\"\n",
    "import os\n",
    "\n",
    "src_file = '/pipelines/Samples_Clustering_Pipeline/src/samples_clustering.py'\n",
    "run_file = 'samples_clustering_run_file.yml'\n",
    "run_string = 'python3 ' + src_file + ' -run_directory run_dir -run_file ' + run_file + ' &'\n",
    "os.system(run_string)"
   ]
  },
  {
   "cell_type": "markdown",
   "metadata": {},
   "source": [
    "## yaml file resources:\n",
    "* view development yaml file list\n",
    "* view contents of one of them"
   ]
  },
  {
   "cell_type": "code",
   "execution_count": 1,
   "metadata": {},
   "outputs": [
    {
     "data": {
      "text/plain": [
       "['BENCHMARK_5_SC_cc_nmf_parallel_distributed.yml',\n",
       " 'BENCHMARK_3_SC_cc_nmf_serial.yml',\n",
       " 'zTEMPLATE_cc_net_nmf.yml',\n",
       " 'BENCHMARK_7_SC_cc_net_nmf_parallel_shared.yml',\n",
       " 'BENCHMARK_6_SC_cc_net_nmf_serial.yml',\n",
       " 'BENCHMARK_8_SC_cc_net_nmf_parallel_distributed.yml',\n",
       " 'BENCHMARK_1a_SC_nmf.yml',\n",
       " 'BENCHMARK_1_SC_nmf.yml',\n",
       " 'BENCHMARK_2_SC_net_nmf.yml',\n",
       " 'BENCHMARK_4_SC_cc_nmf_parallel_shared.yml']"
      ]
     },
     "execution_count": 1,
     "metadata": {},
     "output_type": "execute_result"
    }
   ],
   "source": [
    "\"\"\"                view list of yaml files                          \"\"\"\n",
    "\n",
    "import os\n",
    "run_files_dir = '/pipelines/Samples_Clustering_Pipeline/data/run_files'\n",
    "\n",
    "os.listdir(run_files_dir)"
   ]
  },
  {
   "cell_type": "code",
   "execution_count": null,
   "metadata": {},
   "outputs": [],
   "source": [
    "\"\"\"                view contents of one of them                  \"\"\"\n",
    "\n",
    "full_file_name = os.path.join(run_files_dir, 'BENCHMARK_1_SC_nmf.yml')\n",
    "\n",
    "with open(full_file_name, 'r') as fh:\n",
    "    lines=fh.readlines()\n",
    "for line in lines:\n",
    "    print(line)"
   ]
  },
  {
   "cell_type": "code",
   "execution_count": null,
   "metadata": {},
   "outputs": [],
   "source": [
    "%%writefile run_dir/samples_clustering_run_file.yml\n",
    "# /pipelines/Samples_Clustering_Pipeline\n",
    "\n",
    "method: cc_net_nmf          # Available methods: nmf, cc_nmf, net_nmf, cc_net_nmf\n",
    "\n",
    "spreadsheet_name_full_path: /pipelines/Samples_Clustering_Pipeline/data/spreadsheets/tcga_ucec_somatic_mutation_data.df\n",
    "\n",
    "phenotype_name_full_path:   /pipelines/Samples_Clustering_Pipeline/data/spreadsheets/UCEC_phenotype.txt\n",
    "\n",
    "gg_network_name_full_path:  /pipelines/Samples_Clustering_Pipeline/data/networks/keg_ST90_4col.edge\n",
    "\n",
    "\n",
    "results_directory:           ./run_dir/results\n",
    "\n",
    "tmp_directory:               ./run_dir/tmp\n",
    "\n",
    "\n",
    "threshold: 10\n",
    "    \n",
    "rwr_max_iterations:         100\n",
    "\n",
    "rwr_convergence_tolerence:  1.0e-4\n",
    "\n",
    "rwr_restart_probability:    0.7        # Vn+1 = alpha * N * Vn + (1-alpha) * Vo\n",
    "\n",
    "\n",
    "rows_sampling_fraction:     0.8        # 0.8 means 80% of rows\n",
    "\n",
    "cols_sampling_fraction:     0.8        # 0.8 means 80% of columns\n",
    "\n",
    "\n",
    "number_of_bootstraps:       4\n",
    "\n",
    "number_of_clusters:         3\n",
    "\n",
    "nmf_conv_check_freq:        50\n",
    "\n",
    "nmf_max_invariance:         200\n",
    "\n",
    "nmf_max_iterations:         10000\n",
    "\n",
    "nmf_penalty_parameter:      1400\n",
    "\n",
    "top_number_of_genes:        100\n",
    "\n",
    "processing_method:          parallel   # available methods: serial, parallel, distribute\n",
    "                                       # available clusters: AWS, CS Cluster\n",
    "parallelism:                4          # user defined parallelism\n"
   ]
  },
  {
   "cell_type": "code",
   "execution_count": null,
   "metadata": {},
   "outputs": [],
   "source": []
  }
 ],
 "metadata": {
  "kernelspec": {
   "display_name": "Python 3",
   "language": "python",
   "name": "python3"
  },
  "language_info": {
   "codemirror_mode": {
    "name": "ipython",
    "version": 3
   },
   "file_extension": ".py",
   "mimetype": "text/x-python",
   "name": "python",
   "nbconvert_exporter": "python",
   "pygments_lexer": "ipython3",
   "version": "3.4.3"
  }
 },
 "nbformat": 4,
 "nbformat_minor": 2
}
