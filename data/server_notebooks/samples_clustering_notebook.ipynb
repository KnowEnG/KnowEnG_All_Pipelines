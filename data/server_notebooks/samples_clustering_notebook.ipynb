{
 "cells": [
  {
   "cell_type": "markdown",
   "metadata": {},
   "source": [
    "## Samples Clustering Pipeline notbook run proceedure:\n",
    "* upload your data files to **~/user_data/**\n",
    "* create and upload your yaml file to **~/run_dir/** - use one of the run files below as an example\n",
    "* run the run cell\n",
    "\n",
    "## This notebook is read-only - copy to save."
   ]
  },
  {
   "cell_type": "code",
   "execution_count": null,
   "metadata": {},
   "outputs": [],
   "source": [
    "\"\"\"                run the cell to process your uploaded yml file   \"\"\"\n",
    "import os\n",
    "\n",
    "src_file = '/pipelines/Samples_Clustering_Pipeline/src/samples_clustering.py'\n",
    "run_file = 'samples_clustering_run_file.yml'\n",
    "run_string = 'python3 ' + src_file + ' -run_directory run_dir -run_file ' + run_file + ' &'\n",
    "os.system(run_string)"
   ]
  },
  {
   "cell_type": "markdown",
   "metadata": {},
   "source": [
    "## yaml file resources:\n",
    "* view development yaml file list\n",
    "* view contents of one of them"
   ]
  },
  {
   "cell_type": "code",
   "execution_count": null,
   "metadata": {},
   "outputs": [],
   "source": [
    "\"\"\"                view list of yaml files                          \"\"\"\n",
    "\n",
    "import os\n",
    "run_files_dir = '/pipelines/Samples_Clustering_Pipeline/data/run_files'\n",
    "\n",
    "os.listdir(run_files_dir)"
   ]
  },
  {
   "cell_type": "code",
   "execution_count": null,
   "metadata": {},
   "outputs": [],
   "source": [
    "\"\"\"                view contents of one of them                  \"\"\"\n",
    "\n",
    "full_file_name = os.path.join(run_files_dir, 'BENCHMARK_1_SC_nmf.yml')\n",
    "\n",
    "with open(full_file_name, 'r') as fh:\n",
    "    lines=fh.readlines()\n",
    "for line in lines:\n",
    "    print(line)"
   ]
  },
  {
   "cell_type": "code",
   "execution_count": null,
   "metadata": {},
   "outputs": [],
   "source": []
  }
 ],
 "metadata": {
  "kernelspec": {
   "display_name": "Python 3",
   "language": "python",
   "name": "python3"
  },
  "language_info": {
   "codemirror_mode": {
    "name": "ipython",
    "version": 3
   },
   "file_extension": ".py",
   "mimetype": "text/x-python",
   "name": "python",
   "nbconvert_exporter": "python",
   "pygments_lexer": "ipython3",
   "version": "3.5.5"
  }
 },
 "nbformat": 4,
 "nbformat_minor": 2
}
