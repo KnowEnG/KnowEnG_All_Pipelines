{
 "cells": [
  {
   "cell_type": "markdown",
   "metadata": {},
   "source": [
    "## General Clustering Pipeline notebook:\n",
    "[General_Clustering_Pipeline on Git Hub](https://github.com/KnowEnG/General_Clustering_Pipeline)\n",
    "* upload your data files to **~/user_data/**\n",
    "* create and upload your yaml file to **~/run_dir/**\n",
    "* run the run cell - with your yaml file (run_file = 'youryamlnamehere.yml')"
   ]
  },
  {
   "cell_type": "code",
   "execution_count": null,
   "metadata": {},
   "outputs": [],
   "source": [
    "\"\"\"                run the cell to process your uploaded yml file   \"\"\"\n",
    "import os\n",
    "\n",
    "src_file = '/pipelines/General_Clustering_Pipeline/src/general_clustering.py'\n",
    "run_file = 'general_clustering_run_file.yml'\n",
    "run_string = 'python3 ' + src_file + ' -run_directory run_dir -run_file ' + run_file + ' &'\n",
    "os.system(run_string)"
   ]
  }
 ],
 "metadata": {
  "kernelspec": {
   "display_name": "Python 3",
   "language": "python",
   "name": "python3"
  },
  "language_info": {
   "codemirror_mode": {
    "name": "ipython",
    "version": 3
   },
   "file_extension": ".py",
   "mimetype": "text/x-python",
   "name": "python",
   "nbconvert_exporter": "python",
   "pygments_lexer": "ipython3",
   "version": "3.5.5"
  }
 },
 "nbformat": 4,
 "nbformat_minor": 2
}
