{
 "cells": [
  {
   "cell_type": "markdown",
   "metadata": {},
   "source": [
    "## Signature Analysis Pipeline notebook:\n",
    "[Signature_Analysis_Pipeline on Git Hub](https://github.com/KnowEnG/Signature_Analysis_Pipeline)\n",
    "* upload your data files to **~/user_data/**\n",
    "* create and upload your yaml file to **~/run_dir/**\n",
    "* run the run cell - with your yaml file (run_file = 'youryamlnamehere.yml')"
   ]
  },
  {
   "cell_type": "code",
   "execution_count": null,
   "metadata": {},
   "outputs": [],
   "source": [
    "\"\"\"                run the cell to process your uploaded yml file   \"\"\"\n",
    "import os\n",
    "\n",
    "src_file = '/pipelines/Signature_Analysis_Pipeline/src/gene_signature.py'\n",
    "run_file = 'gene_signature_run_file.yml'\n",
    "run_string = 'python3 ' + src_file + ' -run_directory run_dir -run_file ' + run_file + ' &'\n",
    "os.system(run_string)"
   ]
  }
 ],
 "metadata": {
  "kernelspec": {
   "display_name": "Python 3",
   "language": "python",
   "name": "python3"
  },
  "language_info": {
   "codemirror_mode": {
    "name": "ipython",
    "version": 3
   },
   "file_extension": ".py",
   "mimetype": "text/x-python",
   "name": "python",
   "nbconvert_exporter": "python",
   "pygments_lexer": "ipython3",
   "version": "3.5.5"
  }
 },
 "nbformat": 4,
 "nbformat_minor": 2
}
